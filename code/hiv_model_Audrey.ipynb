{
 "cells": [
  {
   "cell_type": "markdown",
   "metadata": {},
   "source": [
    "# Modeling and Simulation in Python\n",
    "\n",
    "Audrey Lee\n"
   ]
  },
  {
   "cell_type": "code",
   "execution_count": 2,
   "metadata": {},
   "outputs": [],
   "source": [
    "# Configure Jupyter so figures appear in the notebook\n",
    "%matplotlib inline\n",
    "\n",
    "# Configure Jupyter to display the assigned value after an assignment\n",
    "%config InteractiveShell.ast_node_interactivity='last_expr_or_assign'\n",
    "\n",
    "# import functions from the modsim.py module\n",
    "from modsim import *"
   ]
  },
  {
   "cell_type": "code",
   "execution_count": 119,
   "metadata": {},
   "outputs": [
    {
     "name": "stdout",
     "output_type": "stream",
     "text": [
      "tau        0.20000\n",
      "gamma      1.36000\n",
      "mu         0.00136\n",
      "beta       0.00027\n",
      "rho        0.10000\n",
      "alpha      0.03600\n",
      "omega      2.00000\n",
      "delta      0.33000\n",
      "pi       100.00000\n",
      "dtype: float64\n"
     ]
    }
   ],
   "source": [
    "init  = State(R = 0, L = 0, E = 0, V = 4 * 10 ** (-7))\n",
    "system = System(tau = .2, gamma = 1.36, mu = 1.36 * 10 ** (-3), beta = .00027, \n",
    "                rho = .1, alpha = 3.6 * 10 ** (-2), omega = 2, delta = .33, pi = 100)\n",
    "print(system)"
   ]
  },
  {
   "cell_type": "code",
   "execution_count": 133,
   "metadata": {},
   "outputs": [],
   "source": [
    "def update_func(state, t, system):\n",
    "    R, L, E, V = state\n",
    "    Rbirth = system.gamma * system.tau\n",
    "    Rdeath = system.mu * R\n",
    "    \n",
    "    RtoLE = beta*R*V\n",
    "    \n",
    "    R += Rbirth - RtoLE - Rdeath\n",
    "    \n",
    "    \n",
    "    LtoE = system.alpha * L\n",
    "    \n",
    "    RtoE = (1- system.rho) * system.beta * R * V\n",
    "    \n",
    "    RtoL = system.rho * system.beta * R * V\n",
    "    \n",
    "    Ldeath = system.mu * L\n",
    "    \n",
    "    Edeath = system.delta * E\n",
    "    \n",
    "    #Vbirth = system.pi * E\n",
    "    #Vdeath = system.omega * V\n",
    "\n",
    "    \n",
    "    L += RtoL - Ldeath - LtoE\n",
    "    E += RtoE - Edeath + LtoE\n",
    "   \n",
    "    Vbirth = system.pi * E\n",
    "    Vdeath = system.omega * V\n",
    "    \n",
    "    V += Vbirth - Vdeath\n",
    "    \n",
    "    return State(R=R, L=L, E=E, V=V)"
   ]
  },
  {
   "cell_type": "code",
   "execution_count": 134,
   "metadata": {},
   "outputs": [],
   "source": [
    "t0 = 0\n",
    "t_end = 120\n",
    "def run_simulation(system, update_func):\n",
    "    \"\"\"Runs a simulation of the system.\n",
    "        \n",
    "    system: System object\n",
    "    update_func: function that updates state\n",
    "    \n",
    "    returns: TimeFrame\n",
    "    \"\"\"\n",
    "    unpack(system)\n",
    "    \n",
    "    frame = TimeFrame(columns=init.index)\n",
    "    frame.row[t0] = init\n",
    "    \n",
    "    for t in linrange(t0, t_end):\n",
    "        frame.row[t+1] = update_func(frame.row[t], t, system)\n",
    "    \n",
    "    return frame"
   ]
  },
  {
   "cell_type": "code",
   "execution_count": 137,
   "metadata": {},
   "outputs": [
    {
     "name": "stdout",
     "output_type": "stream",
     "text": [
      "             R             L             E             V\n",
      "0     0.000000  0.000000e+00  0.000000e+00  4.000000e-07\n",
      "1     0.272000  2.937600e-12  2.643840e-11 -3.973562e-07\n",
      "2     0.543630 -3.004547e-12 -3.467211e-11  3.938889e-07\n",
      "3     0.814891  5.774067e-12  5.465881e-11 -3.884231e-07\n",
      "4     1.085782 -5.828712e-12 -6.565428e-11  3.818576e-07\n",
      "5     1.356306  8.372774e-12  8.165533e-11 -3.736921e-07\n",
      "6     1.626461 -8.350518e-12 -9.268387e-11  3.644237e-07\n",
      "7     1.896249  1.061949e-11  1.055235e-10 -3.538714e-07\n",
      "8     2.165670 -1.046921e-11 -1.151446e-10  3.423569e-07\n",
      "9     2.434725  1.242763e-11  1.250277e-10 -3.298541e-07\n",
      "10    2.703414 -1.211344e-11 -1.324750e-10  3.166066e-07\n",
      "11    2.971737  1.374266e-11  1.394375e-10 -3.026629e-07\n",
      "12    3.239696 -1.324523e-11 -1.443523e-10  2.882277e-07\n",
      "13    3.507290  1.454386e-11  1.484553e-10 -2.733821e-07\n",
      "14    3.774520 -1.386043e-11 -1.507597e-10  2.583062e-07\n",
      "15    4.041386  1.484310e-11  1.521634e-10 -2.430898e-07\n",
      "16    4.307890 -1.398595e-11 -1.519868e-10  2.278911e-07\n",
      "17    4.574031  1.468086e-11  1.509640e-10 -2.127947e-07\n",
      "18    4.839811 -1.367455e-11 -1.485880e-10  1.979359e-07\n",
      "19    5.105229  1.412005e-11  1.455073e-10 -1.833852e-07\n",
      "20    5.370285 -1.299791e-11 -1.413157e-10  1.692536e-07\n",
      "21    5.634982  1.323871e-11  1.366096e-10 -1.555927e-07\n",
      "22    5.899318 -1.203894e-11 -1.310424e-10  1.424884e-07\n",
      "23    6.163295  1.212219e-11  1.251704e-10 -1.299714e-07\n",
      "24    6.426913 -1.088420e-11 -1.186810e-10  1.181033e-07\n",
      "25    6.690173  1.085598e-11  1.120939e-10 -1.068939e-07\n",
      "26    6.953074 -9.617111e-12 -1.051139e-10  9.638253e-08\n",
      "27    7.215618  9.519590e-12  9.822410e-11 -8.656012e-08\n",
      "28    7.477804 -8.312612e-12 -9.113610e-11  7.744651e-08\n",
      "29    7.739635  8.181954e-12  8.429563e-11 -6.901694e-08\n",
      "..         ...           ...           ...           ...\n",
      "91   23.296509  3.921323e-14  2.493835e-14  1.213500e-12\n",
      "92   23.536826  3.851940e-14  2.506092e-14  1.292592e-12\n",
      "93   23.776816  3.791012e-14  2.564581e-14  1.271989e-12\n",
      "94   24.016480  3.731861e-14  2.597079e-14  1.325090e-12\n",
      "95   24.255817  3.679220e-14  2.655420e-14  1.330330e-12\n",
      "96   24.494829  3.629747e-14  2.703428e-14  1.373098e-12\n",
      "97   24.733516  3.585836e-14  2.767233e-14  1.394135e-12\n",
      "98   24.971879  3.545868e-14  2.829121e-14  1.434986e-12\n",
      "99   25.209917  3.511069e-14  2.902236e-14  1.467250e-12\n",
      "100  25.447632  3.480708e-14  2.978211e-14  1.510961e-12\n",
      "101  25.685023  3.455453e-14  3.063767e-14  1.552806e-12\n",
      "102  25.922091  3.435038e-14  3.155243e-14  1.602437e-12\n",
      "103  26.158837  3.419883e-14  3.256279e-14  1.653842e-12\n",
      "104  26.395261  3.409981e-14  3.365605e-14  1.711763e-12\n",
      "105  26.631363  3.405668e-14  3.485469e-14  1.773706e-12\n",
      "106  26.867145  3.407099e-14  3.615870e-14  1.842165e-12\n",
      "107  27.102606  3.414614e-14  3.758526e-14  1.916361e-12\n",
      "108  27.337746  3.428494e-14  3.914191e-14  1.997830e-12\n",
      "109  27.572567  3.449136e-14  4.084507e-14  2.086677e-12\n",
      "110  27.807068  3.476942e-14  4.270780e-14  2.184104e-12\n",
      "111  28.041250  3.512405e-14  4.474846e-14  2.290743e-12\n",
      "112  28.275114  3.556063e-14  4.698529e-14  2.407786e-12\n",
      "113  28.508660  3.608544e-14  4.944052e-14  2.536265e-12\n",
      "114  28.741888  3.670551e-14  5.213821e-14  2.677555e-12\n",
      "115  28.974799  3.742890e-14  5.510633e-14  2.833078e-12\n",
      "116  29.207394  3.826472e-14  5.837616e-14  3.004538e-12\n",
      "117  29.439672  3.922337e-14  6.198354e-14  3.193816e-12\n",
      "118  29.671634  4.031666e-14  6.596909e-14  3.403093e-12\n",
      "119  29.903280  4.155805e-14  7.037926e-14  3.634833e-12\n",
      "120  30.134612  4.296286e-14  7.526702e-14  3.891869e-12\n",
      "\n",
      "[121 rows x 4 columns]\n"
     ]
    }
   ],
   "source": [
    "results = run_simulation(system, update_func)\n",
    "print(results)\n",
    "def plot_results(R, L, E, V):\n",
    "    \"\"\"Plot the results of a SIR model.\n",
    "    \n",
    "    S: TimeSeries\n",
    "    I: TimeSeries\n",
    "    R: TimeSeries\n",
    "    \"\"\"\n",
    "    plot(R, '--', label='R')\n",
    "    plot(L, '-', label='L')\n",
    "    plot(E, ':', label='E')\n",
    "    plot(V, '*', label='V')\n",
    "    decorate(xlabel='Time (days)',\n",
    "             ylabel='Fraction of population')"
   ]
  },
  {
   "cell_type": "code",
   "execution_count": 138,
   "metadata": {},
   "outputs": [
    {
     "data": {
      "image/png": "[encoded data removed]",
      "text/plain": [
       "<Figure size 432x288 with 1 Axes>"
      ]
     },
     "metadata": {},
     "output_type": "display_data"
    }
   ],
   "source": [
    "plot_results(results.R, results.L, results.E, results.V)"
   ]
  },
  {
   "cell_type": "code",
   "execution_count": null,
   "metadata": {},
   "outputs": [],
   "source": []
  }
 ],
 "metadata": {
  "kernelspec": {
   "display_name": "Python 3",
   "language": "python",
   "name": "python3"
  },
  "language_info": {
   "codemirror_mode": {
    "name": "ipython",
    "version": 3
   },
   "file_extension": ".py",
   "mimetype": "text/x-python",
   "name": "python",
   "nbconvert_exporter": "python",
   "pygments_lexer": "ipython3",
   "version": "3.6.5"
  }
 },
 "nbformat": 4,
 "nbformat_minor": 2
}
