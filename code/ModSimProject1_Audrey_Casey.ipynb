{
 "cells": [
  {
   "cell_type": "markdown",
   "metadata": {},
   "source": [
    "# Modeling and Simulation Project 1\n",
    "Audrey Lee and Casey May"
   ]
  },
  {
   "cell_type": "code",
   "execution_count": 1,
   "metadata": {},
   "outputs": [],
   "source": [
    "# Configure Jupyter so figures appear in the notebook\n",
    "%matplotlib inline\n",
    "\n",
    "# Configure Jupyter to display the assigned value after an assignment\n",
    "%config InteractiveShell.ast_node_interactivity='last_expr_or_assign'\n",
    "\n",
    "# import functions from the modsim library\n",
    "from modsim import *\n",
    "import math\n",
    "import statistics\n",
    "import csv"
   ]
  },
  {
   "cell_type": "code",
   "execution_count": 2,
   "metadata": {},
   "outputs": [],
   "source": [
    "#reads the html and csv file for world population over time\n",
    "from pandas import read_html\n",
    "from pandas import read_csv\n",
    "\n",
    "filename = 'data/World_population_estimates.html'\n",
    "tables = read_html(filename, header=0, index_col=0, decimal='M')\n",
    "table2 = tables[2]\n",
    "table2.columns = ['census', 'prb', 'un', 'maddison', \n",
    "                  'hyde', 'tanton', 'biraben', 'mj', \n",
    "                  'thomlinson', 'durand', 'clark']"
   ]
  },
  {
   "cell_type": "code",
   "execution_count": 3,
   "metadata": {},
   "outputs": [],
   "source": [
    "#Each year represents the total fertility rate in each country over five years after said year\n",
    "filename2 = 'data/totalfertility.csv'\n",
    "tables2 = read_csv(filename2, header = 0, index_col=0, decimal='M', encoding = \"ISO-8859-1\")\n",
    "tables2.columns = ['1950', '1955', '1960', '1965', \n",
    "                  '1970', '1975', '1980', '1985', \n",
    "                  '1990', '1995', '2000', '2005', '2010']"
   ]
  },
  {
   "cell_type": "code",
   "execution_count": 4,
   "metadata": {},
   "outputs": [],
   "source": [
    "#convert strings to float\n",
    "import numpy as np\n",
    "birthRates = list(np.float_(tables2));"
   ]
  },
  {
   "cell_type": "code",
   "execution_count": 5,
   "metadata": {},
   "outputs": [
    {
     "data": {
      "text/plain": [
       "2.442849498327761"
      ]
     },
     "execution_count": 5,
     "metadata": {},
     "output_type": "execute_result"
    }
   ],
   "source": [
    "sum =0\n",
    "#changes the data to fit our 3 child policy\n",
    "    #if the fertility rate is above 3, the number added to the sum is 3 (numbers below 3 are just the actual numbers)\n",
    "for changeC in range(1, 13):\n",
    "    for changeR in range(0, 230):     \n",
    "        if birthRates[changeR][changeC] > 3.0:\n",
    "            sum += 3.0\n",
    "        elif birthRates[changeR][changeC] <= 3.0:\n",
    "            sum += birthRates[changeR][changeC]\n",
    "#calculates the average birth rate in all countries/regions\n",
    "mean = sum/(230*13)\n"
   ]
  },
  {
   "cell_type": "code",
   "execution_count": 6,
   "metadata": {},
   "outputs": [],
   "source": [
    "#setting the template for what will eventually show our results\n",
    "def plot_results(census, un, timeseries, timeseries3, title):\n",
    "    plot(census, ':', label='US Census')\n",
    "    plot(un, '--', label='UN DESA')\n",
    "    if len(timeseries):\n",
    "        plot(timeseries, color='gray', label='model, no child limit')\n",
    "    if len(timeseries3):\n",
    "        plot(timeseries3, color='purple', label='model, three child limit')\n",
    "    \n",
    "    decorate(xlabel='Year', \n",
    "             ylabel='World population (billion)',\n",
    "             title=title)"
   ]
  },
  {
   "cell_type": "code",
   "execution_count": 7,
   "metadata": {},
   "outputs": [
    {
     "data": {
      "image/png": "[encoded data removed]",
      "text/plain": [
       "<Figure size 432x288 with 1 Axes>"
      ]
     },
     "metadata": {},
     "output_type": "display_data"
    }
   ],
   "source": [
    "#sets variables to plot for UN and Census data\n",
    "un = table2.un / 1e9\n",
    "census = table2.census / 1e9\n",
    "empty = TimeSeries()\n",
    "empty3 = TimeSeries()\n",
    "plot_results(census, un, empty, empty3, 'World population estimates')"
   ]
  },
  {
   "cell_type": "markdown",
   "metadata": {},
   "source": [
    "# How long would it take to reach carrying capacity if there was a three child limit imposed on the world population?"
   ]
  },
  {
   "cell_type": "markdown",
   "metadata": {},
   "source": [
    "To explore this question, we will look for a model that will simulate the world population if there was a three child global limit."
   ]
  },
  {
   "cell_type": "markdown",
   "metadata": {},
   "source": [
    "The true carrying capacity number is nearly impossible to determine, because it requires knowing how efficient our technology becomes, and also knowing how many people are willing to make sacrifices in their own living. Estimates range from 2 billion to 1,024 Billion. All of these estimates base these numbers off of assumptions that are dangerous to make. 8-10 billion people, however, is a popular average estimate. One man, Edward O. Wilson, looked at the amount of food the world can produce. There is enough food to feed 10 billion + vegetarians, but because of the huge drain that is meat consumption, this number greatly falls. Even if a child limit is set, global resources will continue to dry p because more and more countries are developing and expecting more for their citizens.  Because of this necessity, it is realistically likely that the carrying capacity is less than 10 billion, but as people tend to love looking at the best possible outcomes, we’re going to go with an even 10 billion.  \n"
   ]
  },
  {
   "cell_type": "markdown",
   "metadata": {},
   "source": [
    "We'll use the 1950 world population from the US Census as an initial condition."
   ]
  },
  {
   "cell_type": "code",
   "execution_count": 8,
   "metadata": {},
   "outputs": [],
   "source": [
    "#providing the information needed to graph the three child and no limit lines\n",
    "def update_func(pop, t, system):\n",
    "    net_growth = .0157083 * pop\n",
    "    return pop + net_growth\n",
    "\n",
    "def update_func3(pop, t, system):\n",
    "    net_growth = (2.442849498327761-2.4336)*pop\n",
    "    return pop + net_growth"
   ]
  },
  {
   "cell_type": "code",
   "execution_count": 14,
   "metadata": {},
   "outputs": [],
   "source": [
    "def run_simulation(system, update_func):\n",
    "    results = TimeSeries()\n",
    "    results3 = TimeSeries()\n",
    "    \n",
    "    results[system.t_0] = system.p_0\n",
    "    results3[system.t_0]= system.p_0\n",
    "    \n",
    "   #registering the previous result and plugging it back into their respective update_func equations\n",
    "    for t in linrange(system.t_0, system.t_end):\n",
    "        results[t+1] =  update_func(results[t], t, system)\n",
    "        results3[t+1] =  update_func3(results3[t], t, system)\n",
    "        \n",
    "        #setting the boundaries to find carrying capacity for both no limits and three child limits\n",
    "        if results[t+1] >= 10 and results[t+1] <= 10.1:\n",
    "            print(t)\n",
    "        if results3[t+1] >= 10 and results3[t+1] <= 10.1:\n",
    "            print(t)\n",
    "    return results"
   ]
  },
  {
   "cell_type": "code",
   "execution_count": 15,
   "metadata": {},
   "outputs": [
    {
     "data": {
      "text/html": [
       "<div>\n",
       "<style scoped>\n",
       "    .dataframe tbody tr th:only-of-type {\n",
       "        vertical-align: middle;\n",
       "    }\n",
       "\n",
       "    .dataframe tbody tr th {\n",
       "        vertical-align: top;\n",
       "    }\n",
       "\n",
       "    .dataframe thead th {\n",
       "        text-align: right;\n",
       "    }\n",
       "</style>\n",
       "<table border=\"1\" class=\"dataframe\">\n",
       "  <thead>\n",
       "    <tr style=\"text-align: right;\">\n",
       "      <th></th>\n",
       "      <th>values</th>\n",
       "    </tr>\n",
       "  </thead>\n",
       "  <tbody>\n",
       "    <tr>\n",
       "      <th>t_0</th>\n",
       "      <td>1950.000000</td>\n",
       "    </tr>\n",
       "    <tr>\n",
       "      <th>t_end</th>\n",
       "      <td>2100.000000</td>\n",
       "    </tr>\n",
       "    <tr>\n",
       "      <th>p_0</th>\n",
       "      <td>2.557629</td>\n",
       "    </tr>\n",
       "  </tbody>\n",
       "</table>\n",
       "</div>"
      ],
      "text/plain": [
       "t_0      1950.000000\n",
       "t_end    2100.000000\n",
       "p_0         2.557629\n",
       "dtype: float64"
      ]
     },
     "execution_count": 15,
     "metadata": {},
     "output_type": "execute_result"
    }
   ],
   "source": [
    "#initialize the start time and set the end year\n",
    "t_0 = get_first_label(census)\n",
    "t_end = 2100\n",
    "p_0 = census[t_0]\n",
    "\n",
    "system = System(t_0=t_0, \n",
    "                t_end=t_end,\n",
    "                p_0=p_0)"
   ]
  },
  {
   "cell_type": "code",
   "execution_count": 16,
   "metadata": {
    "scrolled": true
   },
   "outputs": [
    {
     "name": "stdout",
     "output_type": "stream",
     "text": [
      "2037.0\n",
      "2098.0\n",
      "2098.0\n",
      "2098.0\n",
      "Saving figure to file figs/ModSimProject-fig04.pdf\n"
     ]
    },
    {
     "data": {
      "image/png": "[encoded data removed]",
      "text/plain": [
       "<Figure size 432x288 with 1 Axes>"
      ]
     },
     "metadata": {},
     "output_type": "display_data"
    }
   ],
   "source": [
    "#plotting the results, using the created functions as variables \n",
    "results = run_simulation(system, update_func)\n",
    "results3 = run_simulation(system, update_func3)\n",
    "plot_results(census, un, results, results3, 'World Population')\n",
    "savefig('figs/ModSimProject-fig04.pdf')"
   ]
  },
  {
   "cell_type": "markdown",
   "metadata": {},
   "source": [
    "This figure shows the results from our model along with world population estimates from the United Nations Department of Economic and Social Affairs (UN DESA) and the US Census Bureau."
   ]
  },
  {
   "cell_type": "markdown",
   "metadata": {},
   "source": [
    "The model predicts the population in the shown years if there was a three child limit imposed on the world population. "
   ]
  },
  {
   "cell_type": "markdown",
   "metadata": {},
   "source": [
    "This model predicts that the world population would reach our estimated carrying capacity at year 2037 when there is no limit and 2098 when the world population is limited to three children per mother. "
   ]
  },
  {
   "cell_type": "markdown",
   "metadata": {},
   "source": [
    "This means that the world population with a three child limit would take longer to reach carrying capacity than with no limit at all."
   ]
  },
  {
   "cell_type": "markdown",
   "metadata": {},
   "source": [
    "We made quite a few assumptions during our process; many of them were bad. For our first model, we assumed that China’s data could be extrapolated to the entire world. Additionally, we assumed that there were no variables other than child limits that would affect China’s growth rate. The previous model we had extrapolated from data of China's one and two child limits as well as there being a no child limit. Our previous graph didn't yield the results we expected from applying a three child limit. We think this skewing can be attributed to multiple social factors in China that caused a continued decrease in population growth rate even after the one child limit was removed and the two child limit was imposed. \n",
    "\n",
    "For this model, we calculated the average fertility rate and changed any rates above three to be three. We assumed that people who were having more than three children would be limited to only three, so even though three is the limit, some people might decide they want to have two or maybe even one child. We also assumed the deaths per mother rate in order to counteract our average fertility rate and create a net population growth."
   ]
  },
  {
   "cell_type": "markdown",
   "metadata": {},
   "source": [
    "In future work, we would explore the different possibilities of carrying capacity We would also create more complex models that would neutralize the many variables and errors in our current model. "
   ]
  }
 ],
 "metadata": {
  "kernelspec": {
   "display_name": "Python 3",
   "language": "python",
   "name": "python3"
  },
  "language_info": {
   "codemirror_mode": {
    "name": "ipython",
    "version": 3
   },
   "file_extension": ".py",
   "mimetype": "text/x-python",
   "name": "python",
   "nbconvert_exporter": "python",
   "pygments_lexer": "ipython3",
   "version": "3.6.5"
  }
 },
 "nbformat": 4,
 "nbformat_minor": 2
}
